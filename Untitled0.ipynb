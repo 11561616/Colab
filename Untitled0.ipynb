{
  "nbformat": 4,
  "nbformat_minor": 0,
  "metadata": {
    "colab": {
      "provenance": [],
      "authorship_tag": "ABX9TyMP5VeD6BVIxHb4jZ1ME8v4",
      "include_colab_link": true
    },
    "kernelspec": {
      "name": "python3",
      "display_name": "Python 3"
    },
    "language_info": {
      "name": "python"
    }
  },
  "cells": [
    {
      "cell_type": "markdown",
      "metadata": {
        "id": "view-in-github",
        "colab_type": "text"
      },
      "source": [
        "<a href=\"https://colab.research.google.com/github/11561616/Colab/blob/main/Untitled0.ipynb\" target=\"_parent\"><img src=\"https://colab.research.google.com/assets/colab-badge.svg\" alt=\"Open In Colab\"/></a>"
      ]
    },
    {
      "cell_type": "code",
      "execution_count": null,
      "metadata": {
        "id": "8MIf-V1QC5bW"
      },
      "outputs": [],
      "source": [
        "\n",
        "import requests\n",
        "from bs4 import BeautifulSoup\n",
        "import random\n",
        "\n",
        "\n",
        "city = input(\"請輸入縣市:\")\n",
        "town = input(\"請輸入鄉鎮:\")\n",
        "url = f\"https://ifoodie.tw/explore/{city}/{town}/list\"\n",
        "response = requests.get(url)\n",
        "html = BeautifulSoup(response.text, \"html.parser\")\n",
        "\n",
        "\n",
        "restaurants = html.find_all(\"div\", {\"class\": \"jsx-1156793088 info-rows\"})\n",
        "\n",
        "\n",
        "if len(restaurants) == 0:\n",
        "    print(\"找不到任何餐廳\")\n",
        "else:\n",
        "    sorted_restaurants = sorted(restaurants, key=lambda r: float(r.find(\"div\", {\"class\": \"jsx-2373119553 text\"}).text), reverse=True)\n",
        "\n",
        "\n",
        "    print(\"所有餐廳:\")\n",
        "    print(\"-\" * 50)  # 分隔線\n",
        "\n",
        "\n",
        "    for restaurant in sorted_restaurants:\n",
        "        name = restaurant.find(\"a\", {\"class\": \"jsx-1156793088 title-text\"}).text\n",
        "        rating = restaurant.find(\"div\", {\"class\": \"jsx-2373119553 text\"}).text\n",
        "        time = restaurant.find(\"div\", {\"class\": \"jsx-1156793088 info\"}).text\n",
        "        address = restaurant.find(\"div\", {\"class\": \"jsx-1156793088 address-row\"}).text\n",
        "        category = restaurant.find(\"a\", {\"class\": \"jsx-1156793088 category\"}).text\n",
        "        url = f\"https://ifoodie.tw/{restaurant.find('a', {'class': 'jsx-1156793088 title-text'})['href']}\"\n",
        "\n",
        "\n",
        "        print(\"餐廳名稱:\", name)\n",
        "        print(\"評分:\", rating)\n",
        "        print(\"營業時間:\", time)\n",
        "        print(\"地址:\", address)\n",
        "        print(\"類型:\", category)\n",
        "        print(\"網址:\", url)\n",
        "        print(\"-\" * 50)  # 分隔線\n",
        "\n",
        "\n",
        "    recommended_restaurant = random.choice(sorted_restaurants)\n",
        "    name = recommended_restaurant.find(\"a\", {\"class\": \"jsx-1156793088 title-text\"}).text\n",
        "    rating = recommended_restaurant.find(\"div\", {\"class\": \"jsx-2373119553 text\"}).text\n",
        "    time = recommended_restaurant.find(\"div\", {\"class\": \"jsx-1156793088 info\"}).text\n",
        "    address = recommended_restaurant.find(\"div\", {\"class\": \"jsx-1156793088 address-row\"}).text\n",
        "    category = recommended_restaurant.find(\"a\", {\"class\": \"jsx-1156793088 category\"}).text\n",
        "    url = f\"https://ifoodie.tw/{recommended_restaurant.find('a', {'class': 'jsx-1156793088 title-text'})['href']}\"\n",
        "\n",
        "\n",
        "    print(\"隨機推薦的餐廳:\")\n",
        "    print(\"餐廳名稱:\", name)\n",
        "    print(\"評分:\", rating)\n",
        "    print(\"營業時間:\", time)\n",
        "    print(\"地址:\", address)\n",
        "    print(\"類型:\", category)\n",
        "    print(\"網址:\", url)\n"
      ]
    }
  ]
}